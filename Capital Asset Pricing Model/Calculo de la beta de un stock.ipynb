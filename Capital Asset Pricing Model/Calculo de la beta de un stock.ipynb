{
 "cells": [
  {
   "cell_type": "markdown",
   "id": "ae60ad01",
   "metadata": {},
   "source": [
    "### Objetivo\n",
    "Estimar algunos parámetros para un conjunto de activos poniendo en práctica la teoría de CAPM.\n",
    "$$\n",
    "{\\beta} = \\frac{cov(PG, mkt)}{var(mkt)}\n",
    "$$"
   ]
  },
  {
   "cell_type": "markdown",
   "id": "ea1a7809",
   "metadata": {},
   "source": [
    "### Importando las librerías"
   ]
  },
  {
   "cell_type": "code",
   "execution_count": 2,
   "id": "ad2f9025",
   "metadata": {},
   "outputs": [],
   "source": [
    "import numpy as np\n",
    "import pandas as pd\n",
    "from pandas_datareader import data as wb\n",
    "\n",
    "tickers = [\"PG\", \"^GSPC\"]\n",
    "data = pd.DataFrame()\n",
    "for t in tickers:\n",
    "    data[t] = wb.DataReader(t, data_source = \"yahoo\", start= \"2012-1-1\", end=\"2016-12-31\")[\"Adj Close\"]"
   ]
  },
  {
   "cell_type": "code",
   "execution_count": 3,
   "id": "05eeced7",
   "metadata": {},
   "outputs": [],
   "source": [
    "act_retornos = np.log(data/data.shift(1))"
   ]
  },
  {
   "cell_type": "code",
   "execution_count": 4,
   "id": "af4953e7",
   "metadata": {},
   "outputs": [
    {
     "data": {
      "text/html": [
       "<div>\n",
       "<style scoped>\n",
       "    .dataframe tbody tr th:only-of-type {\n",
       "        vertical-align: middle;\n",
       "    }\n",
       "\n",
       "    .dataframe tbody tr th {\n",
       "        vertical-align: top;\n",
       "    }\n",
       "\n",
       "    .dataframe thead th {\n",
       "        text-align: right;\n",
       "    }\n",
       "</style>\n",
       "<table border=\"1\" class=\"dataframe\">\n",
       "  <thead>\n",
       "    <tr style=\"text-align: right;\">\n",
       "      <th></th>\n",
       "      <th>PG</th>\n",
       "      <th>^GSPC</th>\n",
       "    </tr>\n",
       "  </thead>\n",
       "  <tbody>\n",
       "    <tr>\n",
       "      <th>PG</th>\n",
       "      <td>0.020409</td>\n",
       "      <td>0.010078</td>\n",
       "    </tr>\n",
       "    <tr>\n",
       "      <th>^GSPC</th>\n",
       "      <td>0.010078</td>\n",
       "      <td>0.016362</td>\n",
       "    </tr>\n",
       "  </tbody>\n",
       "</table>\n",
       "</div>"
      ],
      "text/plain": [
       "             PG     ^GSPC\n",
       "PG     0.020409  0.010078\n",
       "^GSPC  0.010078  0.016362"
      ]
     },
     "execution_count": 4,
     "metadata": {},
     "output_type": "execute_result"
    }
   ],
   "source": [
    "cov = act_retornos.cov() * 250\n",
    "cov"
   ]
  },
  {
   "cell_type": "code",
   "execution_count": 7,
   "id": "ff57c87d",
   "metadata": {},
   "outputs": [
    {
     "data": {
      "text/plain": [
       "0.010078070131314086"
      ]
     },
     "execution_count": 7,
     "metadata": {},
     "output_type": "execute_result"
    }
   ],
   "source": [
    "cov_with_market = cov.iloc[0,1]\n",
    "cov_with_market"
   ]
  },
  {
   "cell_type": "code",
   "execution_count": 8,
   "id": "2ae857d9",
   "metadata": {},
   "outputs": [
    {
     "data": {
      "text/plain": [
       "0.016361631002308474"
      ]
     },
     "execution_count": 8,
     "metadata": {},
     "output_type": "execute_result"
    }
   ],
   "source": [
    "market_var = act_retornos[\"^GSPC\"].var()*250\n",
    "market_var"
   ]
  },
  {
   "cell_type": "markdown",
   "id": "baf83eac",
   "metadata": {},
   "source": [
    "### Beta:"
   ]
  },
  {
   "cell_type": "code",
   "execution_count": 9,
   "id": "709f813a",
   "metadata": {},
   "outputs": [
    {
     "data": {
      "text/plain": [
       "0.6159575490910512"
      ]
     },
     "execution_count": 9,
     "metadata": {},
     "output_type": "execute_result"
    }
   ],
   "source": [
    "PG_beta = cov_with_market / market_var\n",
    "PG_beta"
   ]
  },
  {
   "cell_type": "markdown",
   "id": "828519cd",
   "metadata": {},
   "source": [
    "### Calculando el retorno esperado de P&G (CAPM)\n",
    "\n",
    "$$\n",
    "\\bar{r_{pg}} = r_f + \\beta_{pg} (\\bar{r_m}-r_f)\n",
    "$$"
   ]
  },
  {
   "cell_type": "code",
   "execution_count": 13,
   "id": "de71be3e",
   "metadata": {},
   "outputs": [
    {
     "data": {
      "text/plain": [
       "0.05579787745455256"
      ]
     },
     "execution_count": 13,
     "metadata": {},
     "output_type": "execute_result"
    }
   ],
   "source": [
    "PG_er = 0.025 + PG_beta * 0.05\n",
    "PG_er"
   ]
  },
  {
   "cell_type": "markdown",
   "id": "52e74c15",
   "metadata": {},
   "source": [
    "### Sharpe ratio:\n",
    "\n",
    "$$\n",
    "Sharpe = \\frac{\\bar{r_{pg}}-r_f}{\\sigma_{pg}}\n",
    "$$"
   ]
  },
  {
   "cell_type": "code",
   "execution_count": 16,
   "id": "d5658839",
   "metadata": {},
   "outputs": [
    {
     "data": {
      "text/plain": [
       "0.21557980346982372"
      ]
     },
     "execution_count": 16,
     "metadata": {},
     "output_type": "execute_result"
    }
   ],
   "source": [
    "Sharpe = (PG_er -0.025)/ (act_retornos[\"PG\"].std()*250**.5)\n",
    "Sharpe"
   ]
  },
  {
   "cell_type": "code",
   "execution_count": null,
   "id": "98896c1b",
   "metadata": {},
   "outputs": [],
   "source": []
  },
  {
   "cell_type": "code",
   "execution_count": null,
   "id": "96a80339",
   "metadata": {},
   "outputs": [],
   "source": []
  }
 ],
 "metadata": {
  "kernelspec": {
   "display_name": "Python 3",
   "language": "python",
   "name": "python3"
  },
  "language_info": {
   "codemirror_mode": {
    "name": "ipython",
    "version": 3
   },
   "file_extension": ".py",
   "mimetype": "text/x-python",
   "name": "python",
   "nbconvert_exporter": "python",
   "pygments_lexer": "ipython3",
   "version": "3.8.8"
  }
 },
 "nbformat": 4,
 "nbformat_minor": 5
}
