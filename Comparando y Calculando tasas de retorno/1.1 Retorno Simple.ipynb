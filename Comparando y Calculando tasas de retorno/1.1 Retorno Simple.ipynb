{
 "cells": [
  {
   "cell_type": "markdown",
   "id": "01bfe882",
   "metadata": {},
   "source": [
    "## Cargando las librerías"
   ]
  },
  {
   "cell_type": "code",
   "execution_count": 1,
   "id": "7627e3a0",
   "metadata": {},
   "outputs": [],
   "source": [
    "import numpy as np\n",
    "from pandas_datareader import data as wb\n",
    "import matplotlib.pyplot as plt\n",
    "\n"
   ]
  },
  {
   "cell_type": "markdown",
   "id": "0fd8446a",
   "metadata": {},
   "source": [
    "### Cargando los datos"
   ]
  },
  {
   "cell_type": "code",
   "execution_count": 3,
   "id": "72f2cf83",
   "metadata": {},
   "outputs": [],
   "source": [
    "PG = wb.DataReader('PG', data_source = 'yahoo', start ='1995-1-1')"
   ]
  },
  {
   "cell_type": "code",
   "execution_count": 5,
   "id": "e98cd6b6",
   "metadata": {},
   "outputs": [
    {
     "data": {
      "text/html": [
       "<div>\n",
       "<style scoped>\n",
       "    .dataframe tbody tr th:only-of-type {\n",
       "        vertical-align: middle;\n",
       "    }\n",
       "\n",
       "    .dataframe tbody tr th {\n",
       "        vertical-align: top;\n",
       "    }\n",
       "\n",
       "    .dataframe thead th {\n",
       "        text-align: right;\n",
       "    }\n",
       "</style>\n",
       "<table border=\"1\" class=\"dataframe\">\n",
       "  <thead>\n",
       "    <tr style=\"text-align: right;\">\n",
       "      <th></th>\n",
       "      <th>High</th>\n",
       "      <th>Low</th>\n",
       "      <th>Open</th>\n",
       "      <th>Close</th>\n",
       "      <th>Volume</th>\n",
       "      <th>Adj Close</th>\n",
       "    </tr>\n",
       "    <tr>\n",
       "      <th>Date</th>\n",
       "      <th></th>\n",
       "      <th></th>\n",
       "      <th></th>\n",
       "      <th></th>\n",
       "      <th></th>\n",
       "      <th></th>\n",
       "    </tr>\n",
       "  </thead>\n",
       "  <tbody>\n",
       "    <tr>\n",
       "      <th>1995-01-03</th>\n",
       "      <td>15.62500</td>\n",
       "      <td>15.43750</td>\n",
       "      <td>15.46875</td>\n",
       "      <td>15.59375</td>\n",
       "      <td>3318400.0</td>\n",
       "      <td>7.971120</td>\n",
       "    </tr>\n",
       "    <tr>\n",
       "      <th>1995-01-04</th>\n",
       "      <td>15.65625</td>\n",
       "      <td>15.31250</td>\n",
       "      <td>15.53125</td>\n",
       "      <td>15.46875</td>\n",
       "      <td>2218800.0</td>\n",
       "      <td>7.907228</td>\n",
       "    </tr>\n",
       "    <tr>\n",
       "      <th>1995-01-05</th>\n",
       "      <td>15.43750</td>\n",
       "      <td>15.21875</td>\n",
       "      <td>15.37500</td>\n",
       "      <td>15.25000</td>\n",
       "      <td>2319600.0</td>\n",
       "      <td>7.795406</td>\n",
       "    </tr>\n",
       "    <tr>\n",
       "      <th>1995-01-06</th>\n",
       "      <td>15.40625</td>\n",
       "      <td>15.15625</td>\n",
       "      <td>15.15625</td>\n",
       "      <td>15.28125</td>\n",
       "      <td>3438000.0</td>\n",
       "      <td>7.811378</td>\n",
       "    </tr>\n",
       "    <tr>\n",
       "      <th>1995-01-09</th>\n",
       "      <td>15.40625</td>\n",
       "      <td>15.18750</td>\n",
       "      <td>15.34375</td>\n",
       "      <td>15.21875</td>\n",
       "      <td>1795200.0</td>\n",
       "      <td>7.779429</td>\n",
       "    </tr>\n",
       "  </tbody>\n",
       "</table>\n",
       "</div>"
      ],
      "text/plain": [
       "                High       Low      Open     Close     Volume  Adj Close\n",
       "Date                                                                    \n",
       "1995-01-03  15.62500  15.43750  15.46875  15.59375  3318400.0   7.971120\n",
       "1995-01-04  15.65625  15.31250  15.53125  15.46875  2218800.0   7.907228\n",
       "1995-01-05  15.43750  15.21875  15.37500  15.25000  2319600.0   7.795406\n",
       "1995-01-06  15.40625  15.15625  15.15625  15.28125  3438000.0   7.811378\n",
       "1995-01-09  15.40625  15.18750  15.34375  15.21875  1795200.0   7.779429"
      ]
     },
     "execution_count": 5,
     "metadata": {},
     "output_type": "execute_result"
    }
   ],
   "source": [
    "PG.head()"
   ]
  },
  {
   "cell_type": "code",
   "execution_count": 6,
   "id": "ba229882",
   "metadata": {},
   "outputs": [
    {
     "data": {
      "text/html": [
       "<div>\n",
       "<style scoped>\n",
       "    .dataframe tbody tr th:only-of-type {\n",
       "        vertical-align: middle;\n",
       "    }\n",
       "\n",
       "    .dataframe tbody tr th {\n",
       "        vertical-align: top;\n",
       "    }\n",
       "\n",
       "    .dataframe thead th {\n",
       "        text-align: right;\n",
       "    }\n",
       "</style>\n",
       "<table border=\"1\" class=\"dataframe\">\n",
       "  <thead>\n",
       "    <tr style=\"text-align: right;\">\n",
       "      <th></th>\n",
       "      <th>High</th>\n",
       "      <th>Low</th>\n",
       "      <th>Open</th>\n",
       "      <th>Close</th>\n",
       "      <th>Volume</th>\n",
       "      <th>Adj Close</th>\n",
       "    </tr>\n",
       "    <tr>\n",
       "      <th>Date</th>\n",
       "      <th></th>\n",
       "      <th></th>\n",
       "      <th></th>\n",
       "      <th></th>\n",
       "      <th></th>\n",
       "      <th></th>\n",
       "    </tr>\n",
       "  </thead>\n",
       "  <tbody>\n",
       "    <tr>\n",
       "      <th>2022-02-15</th>\n",
       "      <td>159.320007</td>\n",
       "      <td>156.110001</td>\n",
       "      <td>157.770004</td>\n",
       "      <td>156.820007</td>\n",
       "      <td>6659200.0</td>\n",
       "      <td>156.820007</td>\n",
       "    </tr>\n",
       "    <tr>\n",
       "      <th>2022-02-16</th>\n",
       "      <td>158.779999</td>\n",
       "      <td>156.270004</td>\n",
       "      <td>156.830002</td>\n",
       "      <td>158.009995</td>\n",
       "      <td>9315700.0</td>\n",
       "      <td>158.009995</td>\n",
       "    </tr>\n",
       "    <tr>\n",
       "      <th>2022-02-17</th>\n",
       "      <td>160.380005</td>\n",
       "      <td>157.350006</td>\n",
       "      <td>158.380005</td>\n",
       "      <td>159.820007</td>\n",
       "      <td>7925500.0</td>\n",
       "      <td>159.820007</td>\n",
       "    </tr>\n",
       "    <tr>\n",
       "      <th>2022-02-18</th>\n",
       "      <td>161.059998</td>\n",
       "      <td>158.820007</td>\n",
       "      <td>159.500000</td>\n",
       "      <td>159.899994</td>\n",
       "      <td>8061600.0</td>\n",
       "      <td>159.899994</td>\n",
       "    </tr>\n",
       "    <tr>\n",
       "      <th>2022-02-22</th>\n",
       "      <td>160.880005</td>\n",
       "      <td>156.660004</td>\n",
       "      <td>160.110001</td>\n",
       "      <td>157.929993</td>\n",
       "      <td>7336924.0</td>\n",
       "      <td>157.929993</td>\n",
       "    </tr>\n",
       "  </tbody>\n",
       "</table>\n",
       "</div>"
      ],
      "text/plain": [
       "                  High         Low        Open       Close     Volume  \\\n",
       "Date                                                                    \n",
       "2022-02-15  159.320007  156.110001  157.770004  156.820007  6659200.0   \n",
       "2022-02-16  158.779999  156.270004  156.830002  158.009995  9315700.0   \n",
       "2022-02-17  160.380005  157.350006  158.380005  159.820007  7925500.0   \n",
       "2022-02-18  161.059998  158.820007  159.500000  159.899994  8061600.0   \n",
       "2022-02-22  160.880005  156.660004  160.110001  157.929993  7336924.0   \n",
       "\n",
       "             Adj Close  \n",
       "Date                    \n",
       "2022-02-15  156.820007  \n",
       "2022-02-16  158.009995  \n",
       "2022-02-17  159.820007  \n",
       "2022-02-18  159.899994  \n",
       "2022-02-22  157.929993  "
      ]
     },
     "execution_count": 6,
     "metadata": {},
     "output_type": "execute_result"
    }
   ],
   "source": [
    "PG.tail()"
   ]
  },
  {
   "cell_type": "markdown",
   "id": "45968fc0",
   "metadata": {},
   "source": [
    "## Tasa de Retorno Simple\n",
    "$$\n",
    "\\frac{P_1 - P_0}{P_0} = \\frac{P_1}{P_0} - 1\n",
    "$$\n"
   ]
  },
  {
   "cell_type": "code",
   "execution_count": 7,
   "id": "4dd94ba8",
   "metadata": {},
   "outputs": [
    {
     "name": "stdout",
     "output_type": "stream",
     "text": [
      "Date\n",
      "1995-01-03         NaN\n",
      "1995-01-04   -0.008016\n",
      "1995-01-05   -0.014142\n",
      "1995-01-06    0.002049\n",
      "1995-01-09   -0.004090\n",
      "                ...   \n",
      "2022-02-15    0.000510\n",
      "2022-02-16    0.007588\n",
      "2022-02-17    0.011455\n",
      "2022-02-18    0.000500\n",
      "2022-02-22   -0.012320\n",
      "Name: Retorno_simple, Length: 6834, dtype: float64\n"
     ]
    }
   ],
   "source": [
    "PG['Retorno_simple'] = (PG['Adj Close']/PG['Adj Close'].shift(1))-1\n",
    "print(PG['Retorno_simple']) "
   ]
  },
  {
   "cell_type": "markdown",
   "id": "fbe9d31b",
   "metadata": {},
   "source": [
    "### Graficando la serie"
   ]
  },
  {
   "cell_type": "code",
   "execution_count": 11,
   "id": "699a7358",
   "metadata": {},
   "outputs": [
    {
     "data": {
      "image/png": "[encoded data removed]",
      "text/plain": [
       "<Figure size 1440x360 with 1 Axes>"
      ]
     },
     "metadata": {
      "needs_background": "light"
     },
     "output_type": "display_data"
    }
   ],
   "source": [
    "PG['Retorno_simple'].plot(figsize=(20,5), title=\"PG\")\n",
    "plt.show()"
   ]
  },
  {
   "cell_type": "code",
   "execution_count": 12,
   "id": "56dffbf9",
   "metadata": {},
   "outputs": [
    {
     "data": {
      "text/plain": [
       "0.0005370420911224299"
      ]
     },
     "execution_count": 12,
     "metadata": {},
     "output_type": "execute_result"
    }
   ],
   "source": [
    "retorno_promedio_d = PG['Retorno_simple'].mean()\n",
    "retorno_promedio_d"
   ]
  },
  {
   "cell_type": "code",
   "execution_count": 14,
   "id": "5a212a70",
   "metadata": {},
   "outputs": [
    {
     "data": {
      "text/plain": [
       "0.13426052278060746"
      ]
     },
     "execution_count": 14,
     "metadata": {},
     "output_type": "execute_result"
    }
   ],
   "source": [
    "retorno_promedio_a = PG['Retorno_simple'].mean()*250\n",
    "retorno_promedio_a"
   ]
  },
  {
   "cell_type": "code",
   "execution_count": 18,
   "id": "73d85344",
   "metadata": {},
   "outputs": [
    {
     "name": "stdout",
     "output_type": "stream",
     "text": [
      "13.425999999999998 %\n"
     ]
    }
   ],
   "source": [
    "print(str(round(retorno_promedio_a,5)*100)+ ' %') "
   ]
  }
 ],
 "metadata": {
  "kernelspec": {
   "display_name": "Python 3",
   "language": "python",
   "name": "python3"
  },
  "language_info": {
   "codemirror_mode": {
    "name": "ipython",
    "version": 3
   },
   "file_extension": ".py",
   "mimetype": "text/x-python",
   "name": "python",
   "nbconvert_exporter": "python",
   "pygments_lexer": "ipython3",
   "version": "3.8.8"
  }
 },
 "nbformat": 4,
 "nbformat_minor": 5
}
