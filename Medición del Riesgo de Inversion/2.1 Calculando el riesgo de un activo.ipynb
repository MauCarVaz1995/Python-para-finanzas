{
 "cells": [
  {
   "cell_type": "markdown",
   "id": "ab46258d",
   "metadata": {},
   "source": [
    "### Cargando librerías"
   ]
  },
  {
   "cell_type": "code",
   "execution_count": 1,
   "id": "0fc0948c",
   "metadata": {},
   "outputs": [],
   "source": [
    "import numpy as np\n",
    "import pandas as pd\n",
    "from pandas_datareader import data as wb\n",
    "import matplotlib.pyplot as plt"
   ]
  },
  {
   "cell_type": "markdown",
   "id": "8cbdabd1",
   "metadata": {},
   "source": [
    "### Cargando datos"
   ]
  },
  {
   "cell_type": "code",
   "execution_count": 11,
   "id": "ac1e2683",
   "metadata": {},
   "outputs": [],
   "source": [
    "tickers = ['PG', 'BEI.DE']\n",
    "act_data = pd.DataFrame()\n",
    "\n",
    "for t in tickers:\n",
    "    act_data[t] = wb.DataReader(t, data_source = 'yahoo', start = '2007-1-1')['Adj Close']"
   ]
  },
  {
   "cell_type": "code",
   "execution_count": 12,
   "id": "ce6df803",
   "metadata": {},
   "outputs": [
    {
     "data": {
      "text/html": [
       "<div>\n",
       "<style scoped>\n",
       "    .dataframe tbody tr th:only-of-type {\n",
       "        vertical-align: middle;\n",
       "    }\n",
       "\n",
       "    .dataframe tbody tr th {\n",
       "        vertical-align: top;\n",
       "    }\n",
       "\n",
       "    .dataframe thead th {\n",
       "        text-align: right;\n",
       "    }\n",
       "</style>\n",
       "<table border=\"1\" class=\"dataframe\">\n",
       "  <thead>\n",
       "    <tr style=\"text-align: right;\">\n",
       "      <th></th>\n",
       "      <th>PG</th>\n",
       "      <th>BEI.DE</th>\n",
       "    </tr>\n",
       "    <tr>\n",
       "      <th>Date</th>\n",
       "      <th></th>\n",
       "      <th></th>\n",
       "    </tr>\n",
       "  </thead>\n",
       "  <tbody>\n",
       "    <tr>\n",
       "      <th>2022-02-16</th>\n",
       "      <td>158.009995</td>\n",
       "      <td>88.239998</td>\n",
       "    </tr>\n",
       "    <tr>\n",
       "      <th>2022-02-17</th>\n",
       "      <td>159.820007</td>\n",
       "      <td>90.320000</td>\n",
       "    </tr>\n",
       "    <tr>\n",
       "      <th>2022-02-18</th>\n",
       "      <td>159.899994</td>\n",
       "      <td>91.120003</td>\n",
       "    </tr>\n",
       "    <tr>\n",
       "      <th>2022-02-22</th>\n",
       "      <td>157.929993</td>\n",
       "      <td>86.720001</td>\n",
       "    </tr>\n",
       "    <tr>\n",
       "      <th>2022-02-23</th>\n",
       "      <td>155.960007</td>\n",
       "      <td>88.459999</td>\n",
       "    </tr>\n",
       "  </tbody>\n",
       "</table>\n",
       "</div>"
      ],
      "text/plain": [
       "                    PG     BEI.DE\n",
       "Date                             \n",
       "2022-02-16  158.009995  88.239998\n",
       "2022-02-17  159.820007  90.320000\n",
       "2022-02-18  159.899994  91.120003\n",
       "2022-02-22  157.929993  86.720001\n",
       "2022-02-23  155.960007  88.459999"
      ]
     },
     "execution_count": 12,
     "metadata": {},
     "output_type": "execute_result"
    }
   ],
   "source": [
    "act_data.tail()"
   ]
  },
  {
   "cell_type": "code",
   "execution_count": 14,
   "id": "cae9a59c",
   "metadata": {},
   "outputs": [],
   "source": [
    "act_retorno = np.log(sec_data/sec_data.shift(1))"
   ]
  },
  {
   "cell_type": "code",
   "execution_count": 15,
   "id": "79560c08",
   "metadata": {},
   "outputs": [
    {
     "data": {
      "text/html": [
       "<div>\n",
       "<style scoped>\n",
       "    .dataframe tbody tr th:only-of-type {\n",
       "        vertical-align: middle;\n",
       "    }\n",
       "\n",
       "    .dataframe tbody tr th {\n",
       "        vertical-align: top;\n",
       "    }\n",
       "\n",
       "    .dataframe thead th {\n",
       "        text-align: right;\n",
       "    }\n",
       "</style>\n",
       "<table border=\"1\" class=\"dataframe\">\n",
       "  <thead>\n",
       "    <tr style=\"text-align: right;\">\n",
       "      <th></th>\n",
       "      <th>PG</th>\n",
       "      <th>BEI.DE</th>\n",
       "    </tr>\n",
       "    <tr>\n",
       "      <th>Date</th>\n",
       "      <th></th>\n",
       "      <th></th>\n",
       "    </tr>\n",
       "  </thead>\n",
       "  <tbody>\n",
       "    <tr>\n",
       "      <th>2007-01-03</th>\n",
       "      <td>NaN</td>\n",
       "      <td>NaN</td>\n",
       "    </tr>\n",
       "    <tr>\n",
       "      <th>2007-01-04</th>\n",
       "      <td>-0.007621</td>\n",
       "      <td>0.006545</td>\n",
       "    </tr>\n",
       "    <tr>\n",
       "      <th>2007-01-05</th>\n",
       "      <td>-0.008624</td>\n",
       "      <td>-0.020772</td>\n",
       "    </tr>\n",
       "    <tr>\n",
       "      <th>2007-01-08</th>\n",
       "      <td>0.002203</td>\n",
       "      <td>0.000202</td>\n",
       "    </tr>\n",
       "    <tr>\n",
       "      <th>2007-01-09</th>\n",
       "      <td>-0.002517</td>\n",
       "      <td>-0.022858</td>\n",
       "    </tr>\n",
       "    <tr>\n",
       "      <th>...</th>\n",
       "      <td>...</td>\n",
       "      <td>...</td>\n",
       "    </tr>\n",
       "    <tr>\n",
       "      <th>2022-02-16</th>\n",
       "      <td>0.007560</td>\n",
       "      <td>-0.001133</td>\n",
       "    </tr>\n",
       "    <tr>\n",
       "      <th>2022-02-17</th>\n",
       "      <td>0.011390</td>\n",
       "      <td>0.023299</td>\n",
       "    </tr>\n",
       "    <tr>\n",
       "      <th>2022-02-18</th>\n",
       "      <td>0.000500</td>\n",
       "      <td>0.008818</td>\n",
       "    </tr>\n",
       "    <tr>\n",
       "      <th>2022-02-22</th>\n",
       "      <td>-0.012397</td>\n",
       "      <td>-0.049493</td>\n",
       "    </tr>\n",
       "    <tr>\n",
       "      <th>2022-02-23</th>\n",
       "      <td>-0.012552</td>\n",
       "      <td>0.019866</td>\n",
       "    </tr>\n",
       "  </tbody>\n",
       "</table>\n",
       "<p>3813 rows × 2 columns</p>\n",
       "</div>"
      ],
      "text/plain": [
       "                  PG    BEI.DE\n",
       "Date                          \n",
       "2007-01-03       NaN       NaN\n",
       "2007-01-04 -0.007621  0.006545\n",
       "2007-01-05 -0.008624 -0.020772\n",
       "2007-01-08  0.002203  0.000202\n",
       "2007-01-09 -0.002517 -0.022858\n",
       "...              ...       ...\n",
       "2022-02-16  0.007560 -0.001133\n",
       "2022-02-17  0.011390  0.023299\n",
       "2022-02-18  0.000500  0.008818\n",
       "2022-02-22 -0.012397 -0.049493\n",
       "2022-02-23 -0.012552  0.019866\n",
       "\n",
       "[3813 rows x 2 columns]"
      ]
     },
     "execution_count": 15,
     "metadata": {},
     "output_type": "execute_result"
    }
   ],
   "source": [
    "act_retorno"
   ]
  },
  {
   "cell_type": "markdown",
   "id": "c0bd0550",
   "metadata": {},
   "source": [
    "## Procter and Gamble"
   ]
  },
  {
   "cell_type": "code",
   "execution_count": 16,
   "id": "f00ce38a",
   "metadata": {},
   "outputs": [
    {
     "data": {
      "text/plain": [
       "0.0003481440631748329"
      ]
     },
     "execution_count": 16,
     "metadata": {},
     "output_type": "execute_result"
    }
   ],
   "source": [
    "act_retorno['PG'].mean()"
   ]
  },
  {
   "cell_type": "code",
   "execution_count": 17,
   "id": "17513440",
   "metadata": {},
   "outputs": [
    {
     "data": {
      "text/plain": [
       "0.08703601579370823"
      ]
     },
     "execution_count": 17,
     "metadata": {},
     "output_type": "execute_result"
    }
   ],
   "source": [
    "act_retorno['PG'].mean()*250"
   ]
  },
  {
   "cell_type": "code",
   "execution_count": 18,
   "id": "f1a07a81",
   "metadata": {},
   "outputs": [
    {
     "data": {
      "text/plain": [
       "0.011702727920274195"
      ]
     },
     "execution_count": 18,
     "metadata": {},
     "output_type": "execute_result"
    }
   ],
   "source": [
    "act_retorno['PG'].std()"
   ]
  },
  {
   "cell_type": "code",
   "execution_count": 19,
   "id": "be08bd59",
   "metadata": {},
   "outputs": [
    {
     "data": {
      "text/plain": [
       "0.18503637532655923"
      ]
     },
     "execution_count": 19,
     "metadata": {},
     "output_type": "execute_result"
    }
   ],
   "source": [
    "act_retorno['PG'].std()*250**0.5"
   ]
  },
  {
   "cell_type": "markdown",
   "id": "6bc76a40",
   "metadata": {},
   "source": [
    "## Beiersdorf"
   ]
  },
  {
   "cell_type": "code",
   "execution_count": 20,
   "id": "d97808f2",
   "metadata": {},
   "outputs": [
    {
     "data": {
      "text/plain": [
       "0.00018064048675698404"
      ]
     },
     "execution_count": 20,
     "metadata": {},
     "output_type": "execute_result"
    }
   ],
   "source": [
    "act_retorno['BEI.DE'].mean()"
   ]
  },
  {
   "cell_type": "code",
   "execution_count": 21,
   "id": "9013cb82",
   "metadata": {},
   "outputs": [
    {
     "data": {
      "text/plain": [
       "0.04516012168924601"
      ]
     },
     "execution_count": 21,
     "metadata": {},
     "output_type": "execute_result"
    }
   ],
   "source": [
    "act_retorno['BEI.DE'].mean()*250"
   ]
  },
  {
   "cell_type": "code",
   "execution_count": 22,
   "id": "6ca6d1e5",
   "metadata": {},
   "outputs": [
    {
     "data": {
      "text/plain": [
       "0.013704744997254324"
      ]
     },
     "execution_count": 22,
     "metadata": {},
     "output_type": "execute_result"
    }
   ],
   "source": [
    "act_retorno['BEI.DE'].std()"
   ]
  },
  {
   "cell_type": "code",
   "execution_count": 23,
   "id": "2c83a5f1",
   "metadata": {},
   "outputs": [
    {
     "data": {
      "text/plain": [
       "0.21669104471560852"
      ]
     },
     "execution_count": 23,
     "metadata": {},
     "output_type": "execute_result"
    }
   ],
   "source": [
    "act_retorno['BEI.DE'].std()*250**0.5"
   ]
  },
  {
   "cell_type": "markdown",
   "id": "1d12a2ef",
   "metadata": {},
   "source": [
    "### Comparando los resultados"
   ]
  },
  {
   "cell_type": "code",
   "execution_count": 24,
   "id": "267508ac",
   "metadata": {},
   "outputs": [
    {
     "name": "stdout",
     "output_type": "stream",
     "text": [
      "0.08703601579370823\n",
      "0.04516012168924601\n"
     ]
    }
   ],
   "source": [
    "print(act_retorno['PG'].mean()*250)\n",
    "print(act_retorno['BEI.DE'].mean()*250)"
   ]
  },
  {
   "cell_type": "code",
   "execution_count": null,
   "id": "ec368889",
   "metadata": {},
   "outputs": [],
   "source": []
  },
  {
   "cell_type": "code",
   "execution_count": null,
   "id": "f3ebb830",
   "metadata": {},
   "outputs": [],
   "source": []
  },
  {
   "cell_type": "code",
   "execution_count": null,
   "id": "7dae9acb",
   "metadata": {},
   "outputs": [],
   "source": []
  },
  {
   "cell_type": "code",
   "execution_count": null,
   "id": "be1ee4f6",
   "metadata": {},
   "outputs": [],
   "source": []
  }
 ],
 "metadata": {
  "kernelspec": {
   "display_name": "Python 3",
   "language": "python",
   "name": "python3"
  },
  "language_info": {
   "codemirror_mode": {
    "name": "ipython",
    "version": 3
   },
   "file_extension": ".py",
   "mimetype": "text/x-python",
   "name": "python",
   "nbconvert_exporter": "python",
   "pygments_lexer": "ipython3",
   "version": "3.8.8"
  }
 },
 "nbformat": 4,
 "nbformat_minor": 5
}
