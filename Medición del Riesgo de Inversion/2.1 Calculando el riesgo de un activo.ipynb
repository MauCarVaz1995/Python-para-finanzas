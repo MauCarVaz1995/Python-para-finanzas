{
 "cells": [
  {
   "cell_type": "markdown",
   "id": "ab46258d",
   "metadata": {},
   "source": [
    "### Cargando librerías"
   ]
  },
  {
   "cell_type": "code",
   "execution_count": 2,
   "id": "0fc0948c",
   "metadata": {},
   "outputs": [],
   "source": [
    "import numpy as np\n",
    "import pandas as pd\n",
    "from pandas_datareader import data as wb\n",
    "import matplotlib.pyplot as plt"
   ]
  },
  {
   "cell_type": "markdown",
   "id": "8cbdabd1",
   "metadata": {},
   "source": [
    "### Cargando datos"
   ]
  },
  {
   "cell_type": "code",
   "execution_count": 3,
   "id": "ac1e2683",
   "metadata": {},
   "outputs": [],
   "source": [
    "tickers = ['PG', 'BEI.DE']\n",
    "act_data = pd.DataFrame()\n",
    "\n",
    "for t in tickers:\n",
    "    act_data[t] = wb.DataReader(t, data_source = 'yahoo', start = '2007-1-1')['Adj Close']"
   ]
  },
  {
   "cell_type": "code",
   "execution_count": 4,
   "id": "ce6df803",
   "metadata": {},
   "outputs": [
    {
     "data": {
      "text/html": [
       "<div>\n",
       "<style scoped>\n",
       "    .dataframe tbody tr th:only-of-type {\n",
       "        vertical-align: middle;\n",
       "    }\n",
       "\n",
       "    .dataframe tbody tr th {\n",
       "        vertical-align: top;\n",
       "    }\n",
       "\n",
       "    .dataframe thead th {\n",
       "        text-align: right;\n",
       "    }\n",
       "</style>\n",
       "<table border=\"1\" class=\"dataframe\">\n",
       "  <thead>\n",
       "    <tr style=\"text-align: right;\">\n",
       "      <th></th>\n",
       "      <th>PG</th>\n",
       "      <th>BEI.DE</th>\n",
       "    </tr>\n",
       "    <tr>\n",
       "      <th>Date</th>\n",
       "      <th></th>\n",
       "      <th></th>\n",
       "    </tr>\n",
       "  </thead>\n",
       "  <tbody>\n",
       "    <tr>\n",
       "      <th>2022-03-22</th>\n",
       "      <td>151.880005</td>\n",
       "      <td>91.820000</td>\n",
       "    </tr>\n",
       "    <tr>\n",
       "      <th>2022-03-23</th>\n",
       "      <td>150.820007</td>\n",
       "      <td>92.459999</td>\n",
       "    </tr>\n",
       "    <tr>\n",
       "      <th>2022-03-24</th>\n",
       "      <td>151.080002</td>\n",
       "      <td>92.160004</td>\n",
       "    </tr>\n",
       "    <tr>\n",
       "      <th>2022-03-25</th>\n",
       "      <td>152.830002</td>\n",
       "      <td>93.239998</td>\n",
       "    </tr>\n",
       "    <tr>\n",
       "      <th>2022-03-28</th>\n",
       "      <td>153.179993</td>\n",
       "      <td>94.059998</td>\n",
       "    </tr>\n",
       "  </tbody>\n",
       "</table>\n",
       "</div>"
      ],
      "text/plain": [
       "                    PG     BEI.DE\n",
       "Date                             \n",
       "2022-03-22  151.880005  91.820000\n",
       "2022-03-23  150.820007  92.459999\n",
       "2022-03-24  151.080002  92.160004\n",
       "2022-03-25  152.830002  93.239998\n",
       "2022-03-28  153.179993  94.059998"
      ]
     },
     "execution_count": 4,
     "metadata": {},
     "output_type": "execute_result"
    }
   ],
   "source": [
    "act_data.tail()"
   ]
  },
  {
   "cell_type": "code",
   "execution_count": 6,
   "id": "cae9a59c",
   "metadata": {},
   "outputs": [],
   "source": [
    "act_retorno = np.log(act_data/act_data.shift(1))"
   ]
  },
  {
   "cell_type": "code",
   "execution_count": 7,
   "id": "79560c08",
   "metadata": {},
   "outputs": [
    {
     "data": {
      "text/html": [
       "<div>\n",
       "<style scoped>\n",
       "    .dataframe tbody tr th:only-of-type {\n",
       "        vertical-align: middle;\n",
       "    }\n",
       "\n",
       "    .dataframe tbody tr th {\n",
       "        vertical-align: top;\n",
       "    }\n",
       "\n",
       "    .dataframe thead th {\n",
       "        text-align: right;\n",
       "    }\n",
       "</style>\n",
       "<table border=\"1\" class=\"dataframe\">\n",
       "  <thead>\n",
       "    <tr style=\"text-align: right;\">\n",
       "      <th></th>\n",
       "      <th>PG</th>\n",
       "      <th>BEI.DE</th>\n",
       "    </tr>\n",
       "    <tr>\n",
       "      <th>Date</th>\n",
       "      <th></th>\n",
       "      <th></th>\n",
       "    </tr>\n",
       "  </thead>\n",
       "  <tbody>\n",
       "    <tr>\n",
       "      <th>2007-01-03</th>\n",
       "      <td>NaN</td>\n",
       "      <td>NaN</td>\n",
       "    </tr>\n",
       "    <tr>\n",
       "      <th>2007-01-04</th>\n",
       "      <td>-0.007621</td>\n",
       "      <td>0.006544</td>\n",
       "    </tr>\n",
       "    <tr>\n",
       "      <th>2007-01-05</th>\n",
       "      <td>-0.008624</td>\n",
       "      <td>-0.020772</td>\n",
       "    </tr>\n",
       "    <tr>\n",
       "      <th>2007-01-08</th>\n",
       "      <td>0.002203</td>\n",
       "      <td>0.000202</td>\n",
       "    </tr>\n",
       "    <tr>\n",
       "      <th>2007-01-09</th>\n",
       "      <td>-0.002518</td>\n",
       "      <td>-0.022858</td>\n",
       "    </tr>\n",
       "    <tr>\n",
       "      <th>...</th>\n",
       "      <td>...</td>\n",
       "      <td>...</td>\n",
       "    </tr>\n",
       "    <tr>\n",
       "      <th>2022-03-22</th>\n",
       "      <td>0.007667</td>\n",
       "      <td>0.042493</td>\n",
       "    </tr>\n",
       "    <tr>\n",
       "      <th>2022-03-23</th>\n",
       "      <td>-0.007004</td>\n",
       "      <td>0.006946</td>\n",
       "    </tr>\n",
       "    <tr>\n",
       "      <th>2022-03-24</th>\n",
       "      <td>0.001722</td>\n",
       "      <td>-0.003250</td>\n",
       "    </tr>\n",
       "    <tr>\n",
       "      <th>2022-03-25</th>\n",
       "      <td>0.011517</td>\n",
       "      <td>0.011651</td>\n",
       "    </tr>\n",
       "    <tr>\n",
       "      <th>2022-03-28</th>\n",
       "      <td>0.002287</td>\n",
       "      <td>0.008756</td>\n",
       "    </tr>\n",
       "  </tbody>\n",
       "</table>\n",
       "<p>3836 rows × 2 columns</p>\n",
       "</div>"
      ],
      "text/plain": [
       "                  PG    BEI.DE\n",
       "Date                          \n",
       "2007-01-03       NaN       NaN\n",
       "2007-01-04 -0.007621  0.006544\n",
       "2007-01-05 -0.008624 -0.020772\n",
       "2007-01-08  0.002203  0.000202\n",
       "2007-01-09 -0.002518 -0.022858\n",
       "...              ...       ...\n",
       "2022-03-22  0.007667  0.042493\n",
       "2022-03-23 -0.007004  0.006946\n",
       "2022-03-24  0.001722 -0.003250\n",
       "2022-03-25  0.011517  0.011651\n",
       "2022-03-28  0.002287  0.008756\n",
       "\n",
       "[3836 rows x 2 columns]"
      ]
     },
     "execution_count": 7,
     "metadata": {},
     "output_type": "execute_result"
    }
   ],
   "source": [
    "act_retorno"
   ]
  },
  {
   "cell_type": "markdown",
   "id": "c0bd0550",
   "metadata": {},
   "source": [
    "## Procter and Gamble"
   ]
  },
  {
   "cell_type": "code",
   "execution_count": 8,
   "id": "f00ce38a",
   "metadata": {},
   "outputs": [
    {
     "data": {
      "text/plain": [
       "0.00034133701534032205"
      ]
     },
     "execution_count": 8,
     "metadata": {},
     "output_type": "execute_result"
    }
   ],
   "source": [
    "act_retorno['PG'].mean()"
   ]
  },
  {
   "cell_type": "code",
   "execution_count": 10,
   "id": "17513440",
   "metadata": {},
   "outputs": [
    {
     "data": {
      "text/plain": [
       "0.08533425383508052"
      ]
     },
     "execution_count": 10,
     "metadata": {},
     "output_type": "execute_result"
    }
   ],
   "source": [
    "act_retorno['PG'].mean()*250"
   ]
  },
  {
   "cell_type": "code",
   "execution_count": 11,
   "id": "f1a07a81",
   "metadata": {},
   "outputs": [
    {
     "data": {
      "text/plain": [
       "0.011752353121401125"
      ]
     },
     "execution_count": 11,
     "metadata": {},
     "output_type": "execute_result"
    }
   ],
   "source": [
    "act_retorno['PG'].std()"
   ]
  },
  {
   "cell_type": "code",
   "execution_count": 12,
   "id": "be08bd59",
   "metadata": {},
   "outputs": [
    {
     "data": {
      "text/plain": [
       "0.1858210186510845"
      ]
     },
     "execution_count": 12,
     "metadata": {},
     "output_type": "execute_result"
    }
   ],
   "source": [
    "act_retorno['PG'].std()*250**0.5"
   ]
  },
  {
   "cell_type": "markdown",
   "id": "6bc76a40",
   "metadata": {},
   "source": [
    "## Beiersdorf"
   ]
  },
  {
   "cell_type": "code",
   "execution_count": 13,
   "id": "d97808f2",
   "metadata": {},
   "outputs": [
    {
     "data": {
      "text/plain": [
       "0.00019607386567784693"
      ]
     },
     "execution_count": 13,
     "metadata": {},
     "output_type": "execute_result"
    }
   ],
   "source": [
    "act_retorno['BEI.DE'].mean()"
   ]
  },
  {
   "cell_type": "code",
   "execution_count": 14,
   "id": "9013cb82",
   "metadata": {},
   "outputs": [
    {
     "data": {
      "text/plain": [
       "0.04901846641946173"
      ]
     },
     "execution_count": 14,
     "metadata": {},
     "output_type": "execute_result"
    }
   ],
   "source": [
    "act_retorno['BEI.DE'].mean()*250"
   ]
  },
  {
   "cell_type": "code",
   "execution_count": 15,
   "id": "6ca6d1e5",
   "metadata": {},
   "outputs": [
    {
     "data": {
      "text/plain": [
       "0.013846542958853401"
      ]
     },
     "execution_count": 15,
     "metadata": {},
     "output_type": "execute_result"
    }
   ],
   "source": [
    "act_retorno['BEI.DE'].std()"
   ]
  },
  {
   "cell_type": "code",
   "execution_count": 16,
   "id": "2c83a5f1",
   "metadata": {},
   "outputs": [
    {
     "data": {
      "text/plain": [
       "0.2189330673467194"
      ]
     },
     "execution_count": 16,
     "metadata": {},
     "output_type": "execute_result"
    }
   ],
   "source": [
    "act_retorno['BEI.DE'].std()*250**0.5"
   ]
  },
  {
   "cell_type": "markdown",
   "id": "1d12a2ef",
   "metadata": {},
   "source": [
    "### Comparando los resultados"
   ]
  },
  {
   "cell_type": "code",
   "execution_count": 17,
   "id": "267508ac",
   "metadata": {},
   "outputs": [
    {
     "name": "stdout",
     "output_type": "stream",
     "text": [
      "0.08533425383508052\n",
      "0.04901846641946173\n"
     ]
    }
   ],
   "source": [
    "print(act_retorno['PG'].mean()*250)\n",
    "print(act_retorno['BEI.DE'].mean()*250)"
   ]
  },
  {
   "cell_type": "markdown",
   "id": "20ec8461",
   "metadata": {},
   "source": [
    "### Comparando en un sola línea"
   ]
  },
  {
   "cell_type": "code",
   "execution_count": 19,
   "id": "ec368889",
   "metadata": {},
   "outputs": [
    {
     "data": {
      "text/plain": [
       "PG        0.085334\n",
       "BEI.DE    0.049018\n",
       "dtype: float64"
      ]
     },
     "execution_count": 19,
     "metadata": {},
     "output_type": "execute_result"
    }
   ],
   "source": [
    "act_retorno[['PG','BEI.DE']].mean()*250"
   ]
  },
  {
   "cell_type": "code",
   "execution_count": 20,
   "id": "f3ebb830",
   "metadata": {},
   "outputs": [
    {
     "data": {
      "text/plain": [
       "PG        0.185821\n",
       "BEI.DE    0.218933\n",
       "dtype: float64"
      ]
     },
     "execution_count": 20,
     "metadata": {},
     "output_type": "execute_result"
    }
   ],
   "source": [
    "act_retorno[['PG','BEI.DE']].std()*250**0.5"
   ]
  },
  {
   "cell_type": "markdown",
   "id": "752ba9d9",
   "metadata": {},
   "source": [
    "### 2.2 Calculando el riesgo de un portafolio"
   ]
  },
  {
   "cell_type": "code",
   "execution_count": 22,
   "id": "82d05c35",
   "metadata": {},
   "outputs": [],
   "source": [
    "weights = np.array([0.5,0.5])"
   ]
  },
  {
   "cell_type": "markdown",
   "id": "9e690699",
   "metadata": {},
   "source": [
    "Varianza del portafolio"
   ]
  },
  {
   "cell_type": "code",
   "execution_count": 23,
   "id": "ab232f81",
   "metadata": {},
   "outputs": [
    {
     "data": {
      "text/plain": [
       "0.026094769837309132"
      ]
     },
     "execution_count": 23,
     "metadata": {},
     "output_type": "execute_result"
    }
   ],
   "source": [
    "pfolio_var = (np.dot(weights.T,np.dot(act_retorno.cov()*250, weights)))\n",
    "pfolio_var"
   ]
  },
  {
   "cell_type": "markdown",
   "id": "11a28c85",
   "metadata": {},
   "source": [
    "Volatilidad del portafolio"
   ]
  },
  {
   "cell_type": "code",
   "execution_count": 25,
   "id": "c40fbd81",
   "metadata": {},
   "outputs": [
    {
     "data": {
      "text/plain": [
       "0.16153875645587076"
      ]
     },
     "execution_count": 25,
     "metadata": {},
     "output_type": "execute_result"
    }
   ],
   "source": [
    "pfolio_vol = (np.dot(weights.T,np.dot(act_retorno.cov()*250, weights)))**0.5\n",
    "pfolio_vol"
   ]
  },
  {
   "cell_type": "code",
   "execution_count": 31,
   "id": "223ffd09",
   "metadata": {},
   "outputs": [
    {
     "name": "stdout",
     "output_type": "stream",
     "text": [
      "16.154%\n"
     ]
    }
   ],
   "source": [
    "print(str(round(pfolio_vol,5) * 100)+\"%\") "
   ]
  },
  {
   "cell_type": "markdown",
   "id": "e9559db9",
   "metadata": {},
   "source": [
    "### 2.3 Calculando el riesgo diversificable y no diversifiable (sistemático) de un portafolio\n"
   ]
  },
  {
   "cell_type": "code",
   "execution_count": 34,
   "id": "4f8a2179",
   "metadata": {},
   "outputs": [
    {
     "data": {
      "text/plain": [
       "0.5"
      ]
     },
     "execution_count": 34,
     "metadata": {},
     "output_type": "execute_result"
    }
   ],
   "source": [
    "weights[0]"
   ]
  },
  {
   "cell_type": "code",
   "execution_count": 35,
   "id": "117bb134",
   "metadata": {},
   "outputs": [
    {
     "data": {
      "text/plain": [
       "0.5"
      ]
     },
     "execution_count": 35,
     "metadata": {},
     "output_type": "execute_result"
    }
   ],
   "source": [
    "weights[1]"
   ]
  },
  {
   "cell_type": "markdown",
   "id": "c5a0d642",
   "metadata": {},
   "source": [
    "**Riesgo diversificable**"
   ]
  },
  {
   "cell_type": "code",
   "execution_count": 37,
   "id": "43ea6a35",
   "metadata": {},
   "outputs": [
    {
     "data": {
      "text/plain": [
       "PG    0.034529\n",
       "dtype: float64"
      ]
     },
     "execution_count": 37,
     "metadata": {},
     "output_type": "execute_result"
    }
   ],
   "source": [
    "PG_var_a = act_retorno[['PG']].var()*250\n",
    "PG_var_a"
   ]
  },
  {
   "cell_type": "code",
   "execution_count": 42,
   "id": "00ee64fc",
   "metadata": {},
   "outputs": [
    {
     "data": {
      "text/plain": [
       "BEI.DE    0.047932\n",
       "dtype: float64"
      ]
     },
     "execution_count": 42,
     "metadata": {},
     "output_type": "execute_result"
    }
   ],
   "source": [
    "BEI_var_a = act_retorno[['BEI.DE']].var()*250\n",
    "BEI_var_a"
   ]
  },
  {
   "cell_type": "code",
   "execution_count": 43,
   "id": "1f924257",
   "metadata": {},
   "outputs": [
    {
     "data": {
      "text/plain": [
       "BEI.DE   NaN\n",
       "PG       NaN\n",
       "dtype: float64"
      ]
     },
     "execution_count": 43,
     "metadata": {},
     "output_type": "execute_result"
    }
   ],
   "source": [
    "RD =  pfolio_var - (weights[0]**2*PG_var_a) - (weights[1]**2*BEI_var_a)\n",
    "RD"
   ]
  },
  {
   "cell_type": "code",
   "execution_count": 44,
   "id": "2bcafb11",
   "metadata": {},
   "outputs": [
    {
     "data": {
      "text/plain": [
       "0.034529450972526694"
      ]
     },
     "execution_count": 44,
     "metadata": {},
     "output_type": "execute_result"
    }
   ],
   "source": [
    "float(PG_var_a)"
   ]
  },
  {
   "cell_type": "code",
   "execution_count": 45,
   "id": "745128b2",
   "metadata": {},
   "outputs": [
    {
     "data": {
      "text/plain": [
       "0.034529450972526694"
      ]
     },
     "execution_count": 45,
     "metadata": {},
     "output_type": "execute_result"
    }
   ],
   "source": [
    "PG_var_a = act_retorno['PG'].var()*250\n",
    "PG_var_a"
   ]
  },
  {
   "cell_type": "code",
   "execution_count": 46,
   "id": "663a39e1",
   "metadata": {},
   "outputs": [
    {
     "data": {
      "text/plain": [
       "0.047931687977843175"
      ]
     },
     "execution_count": 46,
     "metadata": {},
     "output_type": "execute_result"
    }
   ],
   "source": [
    "BEI_var_a = act_retorno['BEI.DE'].var()*250\n",
    "BEI_var_a"
   ]
  },
  {
   "cell_type": "code",
   "execution_count": 47,
   "id": "94e7eda3",
   "metadata": {},
   "outputs": [
    {
     "data": {
      "text/plain": [
       "0.005479485099716663"
      ]
     },
     "execution_count": 47,
     "metadata": {},
     "output_type": "execute_result"
    }
   ],
   "source": [
    "RD =  pfolio_var - (weights[0]**2*PG_var_a) - (weights[1]**2*BEI_var_a)\n",
    "RD"
   ]
  },
  {
   "cell_type": "code",
   "execution_count": 48,
   "id": "a9220eee",
   "metadata": {},
   "outputs": [
    {
     "name": "stdout",
     "output_type": "stream",
     "text": [
      "0.54795 %\n"
     ]
    }
   ],
   "source": [
    "print(str(round(RD*100,5))+ \" %\")"
   ]
  },
  {
   "cell_type": "markdown",
   "id": "024ef009",
   "metadata": {},
   "source": [
    "**Non-diversificable risk**"
   ]
  },
  {
   "cell_type": "code",
   "execution_count": 50,
   "id": "9846b336",
   "metadata": {},
   "outputs": [
    {
     "data": {
      "text/plain": [
       "0.02061528473759247"
      ]
     },
     "execution_count": 50,
     "metadata": {},
     "output_type": "execute_result"
    }
   ],
   "source": [
    "non_RD_1 = pfolio_var -RD\n",
    "non_RD_1"
   ]
  },
  {
   "cell_type": "code",
   "execution_count": 51,
   "id": "ec273709",
   "metadata": {},
   "outputs": [
    {
     "data": {
      "text/plain": [
       "0.020615284737592467"
      ]
     },
     "execution_count": 51,
     "metadata": {},
     "output_type": "execute_result"
    }
   ],
   "source": [
    "non_RD_2 = (weights[0]**2*PG_var_a) + (weights[1]**2*BEI_var_a)\n",
    "non_RD_2 "
   ]
  },
  {
   "cell_type": "code",
   "execution_count": 54,
   "id": "b8d183cb",
   "metadata": {},
   "outputs": [
    {
     "data": {
      "text/plain": [
       "True"
      ]
     },
     "execution_count": 54,
     "metadata": {},
     "output_type": "execute_result"
    }
   ],
   "source": [
    "round(non_RD_2, 7) == round(non_RD_1,7)"
   ]
  }
 ],
 "metadata": {
  "kernelspec": {
   "display_name": "Python 3",
   "language": "python",
   "name": "python3"
  },
  "language_info": {
   "codemirror_mode": {
    "name": "ipython",
    "version": 3
   },
   "file_extension": ".py",
   "mimetype": "text/x-python",
   "name": "python",
   "nbconvert_exporter": "python",
   "pygments_lexer": "ipython3",
   "version": "3.8.8"
  }
 },
 "nbformat": 4,
 "nbformat_minor": 5
}
