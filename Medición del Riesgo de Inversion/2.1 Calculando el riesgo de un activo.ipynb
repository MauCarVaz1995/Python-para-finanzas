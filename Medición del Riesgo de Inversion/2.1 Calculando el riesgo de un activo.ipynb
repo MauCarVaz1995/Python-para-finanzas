{
 "cells": [
  {
   "cell_type": "markdown",
   "id": "ab46258d",
   "metadata": {},
   "source": [
    "### Cargando librerías"
   ]
  },
  {
   "cell_type": "code",
   "execution_count": 2,
   "id": "0fc0948c",
   "metadata": {},
   "outputs": [],
   "source": [
    "import numpy as np\n",
    "import pandas as pd\n",
    "from pandas_datareader import data as wb\n",
    "import matplotlib.pyplot as plt"
   ]
  },
  {
   "cell_type": "markdown",
   "id": "8cbdabd1",
   "metadata": {},
   "source": [
    "### Cargando datos"
   ]
  },
  {
   "cell_type": "code",
   "execution_count": 3,
   "id": "ac1e2683",
   "metadata": {},
   "outputs": [],
   "source": [
    "tickers = ['PG', 'BEI.DE']\n",
    "act_data = pd.DataFrame()\n",
    "\n",
    "for t in tickers:\n",
    "    act_data[t] = wb.DataReader(t, data_source = 'yahoo', start = '2007-1-1')['Adj Close']"
   ]
  },
  {
   "cell_type": "code",
   "execution_count": 4,
   "id": "ce6df803",
   "metadata": {},
   "outputs": [
    {
     "data": {
      "text/html": [
       "<div>\n",
       "<style scoped>\n",
       "    .dataframe tbody tr th:only-of-type {\n",
       "        vertical-align: middle;\n",
       "    }\n",
       "\n",
       "    .dataframe tbody tr th {\n",
       "        vertical-align: top;\n",
       "    }\n",
       "\n",
       "    .dataframe thead th {\n",
       "        text-align: right;\n",
       "    }\n",
       "</style>\n",
       "<table border=\"1\" class=\"dataframe\">\n",
       "  <thead>\n",
       "    <tr style=\"text-align: right;\">\n",
       "      <th></th>\n",
       "      <th>PG</th>\n",
       "      <th>BEI.DE</th>\n",
       "    </tr>\n",
       "    <tr>\n",
       "      <th>Date</th>\n",
       "      <th></th>\n",
       "      <th></th>\n",
       "    </tr>\n",
       "  </thead>\n",
       "  <tbody>\n",
       "    <tr>\n",
       "      <th>2022-03-22</th>\n",
       "      <td>151.880005</td>\n",
       "      <td>91.820000</td>\n",
       "    </tr>\n",
       "    <tr>\n",
       "      <th>2022-03-23</th>\n",
       "      <td>150.820007</td>\n",
       "      <td>92.459999</td>\n",
       "    </tr>\n",
       "    <tr>\n",
       "      <th>2022-03-24</th>\n",
       "      <td>151.080002</td>\n",
       "      <td>92.160004</td>\n",
       "    </tr>\n",
       "    <tr>\n",
       "      <th>2022-03-25</th>\n",
       "      <td>152.830002</td>\n",
       "      <td>93.239998</td>\n",
       "    </tr>\n",
       "    <tr>\n",
       "      <th>2022-03-28</th>\n",
       "      <td>153.179993</td>\n",
       "      <td>94.059998</td>\n",
       "    </tr>\n",
       "  </tbody>\n",
       "</table>\n",
       "</div>"
      ],
      "text/plain": [
       "                    PG     BEI.DE\n",
       "Date                             \n",
       "2022-03-22  151.880005  91.820000\n",
       "2022-03-23  150.820007  92.459999\n",
       "2022-03-24  151.080002  92.160004\n",
       "2022-03-25  152.830002  93.239998\n",
       "2022-03-28  153.179993  94.059998"
      ]
     },
     "execution_count": 4,
     "metadata": {},
     "output_type": "execute_result"
    }
   ],
   "source": [
    "act_data.tail()"
   ]
  },
  {
   "cell_type": "code",
   "execution_count": 6,
   "id": "cae9a59c",
   "metadata": {},
   "outputs": [],
   "source": [
    "act_retorno = np.log(act_data/act_data.shift(1))"
   ]
  },
  {
   "cell_type": "code",
   "execution_count": 7,
   "id": "79560c08",
   "metadata": {},
   "outputs": [
    {
     "data": {
      "text/html": [
       "<div>\n",
       "<style scoped>\n",
       "    .dataframe tbody tr th:only-of-type {\n",
       "        vertical-align: middle;\n",
       "    }\n",
       "\n",
       "    .dataframe tbody tr th {\n",
       "        vertical-align: top;\n",
       "    }\n",
       "\n",
       "    .dataframe thead th {\n",
       "        text-align: right;\n",
       "    }\n",
       "</style>\n",
       "<table border=\"1\" class=\"dataframe\">\n",
       "  <thead>\n",
       "    <tr style=\"text-align: right;\">\n",
       "      <th></th>\n",
       "      <th>PG</th>\n",
       "      <th>BEI.DE</th>\n",
       "    </tr>\n",
       "    <tr>\n",
       "      <th>Date</th>\n",
       "      <th></th>\n",
       "      <th></th>\n",
       "    </tr>\n",
       "  </thead>\n",
       "  <tbody>\n",
       "    <tr>\n",
       "      <th>2007-01-03</th>\n",
       "      <td>NaN</td>\n",
       "      <td>NaN</td>\n",
       "    </tr>\n",
       "    <tr>\n",
       "      <th>2007-01-04</th>\n",
       "      <td>-0.007621</td>\n",
       "      <td>0.006544</td>\n",
       "    </tr>\n",
       "    <tr>\n",
       "      <th>2007-01-05</th>\n",
       "      <td>-0.008624</td>\n",
       "      <td>-0.020772</td>\n",
       "    </tr>\n",
       "    <tr>\n",
       "      <th>2007-01-08</th>\n",
       "      <td>0.002203</td>\n",
       "      <td>0.000202</td>\n",
       "    </tr>\n",
       "    <tr>\n",
       "      <th>2007-01-09</th>\n",
       "      <td>-0.002518</td>\n",
       "      <td>-0.022858</td>\n",
       "    </tr>\n",
       "    <tr>\n",
       "      <th>...</th>\n",
       "      <td>...</td>\n",
       "      <td>...</td>\n",
       "    </tr>\n",
       "    <tr>\n",
       "      <th>2022-03-22</th>\n",
       "      <td>0.007667</td>\n",
       "      <td>0.042493</td>\n",
       "    </tr>\n",
       "    <tr>\n",
       "      <th>2022-03-23</th>\n",
       "      <td>-0.007004</td>\n",
       "      <td>0.006946</td>\n",
       "    </tr>\n",
       "    <tr>\n",
       "      <th>2022-03-24</th>\n",
       "      <td>0.001722</td>\n",
       "      <td>-0.003250</td>\n",
       "    </tr>\n",
       "    <tr>\n",
       "      <th>2022-03-25</th>\n",
       "      <td>0.011517</td>\n",
       "      <td>0.011651</td>\n",
       "    </tr>\n",
       "    <tr>\n",
       "      <th>2022-03-28</th>\n",
       "      <td>0.002287</td>\n",
       "      <td>0.008756</td>\n",
       "    </tr>\n",
       "  </tbody>\n",
       "</table>\n",
       "<p>3836 rows × 2 columns</p>\n",
       "</div>"
      ],
      "text/plain": [
       "                  PG    BEI.DE\n",
       "Date                          \n",
       "2007-01-03       NaN       NaN\n",
       "2007-01-04 -0.007621  0.006544\n",
       "2007-01-05 -0.008624 -0.020772\n",
       "2007-01-08  0.002203  0.000202\n",
       "2007-01-09 -0.002518 -0.022858\n",
       "...              ...       ...\n",
       "2022-03-22  0.007667  0.042493\n",
       "2022-03-23 -0.007004  0.006946\n",
       "2022-03-24  0.001722 -0.003250\n",
       "2022-03-25  0.011517  0.011651\n",
       "2022-03-28  0.002287  0.008756\n",
       "\n",
       "[3836 rows x 2 columns]"
      ]
     },
     "execution_count": 7,
     "metadata": {},
     "output_type": "execute_result"
    }
   ],
   "source": [
    "act_retorno"
   ]
  },
  {
   "cell_type": "markdown",
   "id": "c0bd0550",
   "metadata": {},
   "source": [
    "## Procter and Gamble"
   ]
  },
  {
   "cell_type": "code",
   "execution_count": 8,
   "id": "f00ce38a",
   "metadata": {},
   "outputs": [
    {
     "data": {
      "text/plain": [
       "0.00034133701534032205"
      ]
     },
     "execution_count": 8,
     "metadata": {},
     "output_type": "execute_result"
    }
   ],
   "source": [
    "act_retorno['PG'].mean()"
   ]
  },
  {
   "cell_type": "code",
   "execution_count": 10,
   "id": "17513440",
   "metadata": {},
   "outputs": [
    {
     "data": {
      "text/plain": [
       "0.08533425383508052"
      ]
     },
     "execution_count": 10,
     "metadata": {},
     "output_type": "execute_result"
    }
   ],
   "source": [
    "act_retorno['PG'].mean()*250"
   ]
  },
  {
   "cell_type": "code",
   "execution_count": 11,
   "id": "f1a07a81",
   "metadata": {},
   "outputs": [
    {
     "data": {
      "text/plain": [
       "0.011752353121401125"
      ]
     },
     "execution_count": 11,
     "metadata": {},
     "output_type": "execute_result"
    }
   ],
   "source": [
    "act_retorno['PG'].std()"
   ]
  },
  {
   "cell_type": "code",
   "execution_count": 12,
   "id": "be08bd59",
   "metadata": {},
   "outputs": [
    {
     "data": {
      "text/plain": [
       "0.1858210186510845"
      ]
     },
     "execution_count": 12,
     "metadata": {},
     "output_type": "execute_result"
    }
   ],
   "source": [
    "act_retorno['PG'].std()*250**0.5"
   ]
  },
  {
   "cell_type": "markdown",
   "id": "6bc76a40",
   "metadata": {},
   "source": [
    "## Beiersdorf"
   ]
  },
  {
   "cell_type": "code",
   "execution_count": 13,
   "id": "d97808f2",
   "metadata": {},
   "outputs": [
    {
     "data": {
      "text/plain": [
       "0.00019607386567784693"
      ]
     },
     "execution_count": 13,
     "metadata": {},
     "output_type": "execute_result"
    }
   ],
   "source": [
    "act_retorno['BEI.DE'].mean()"
   ]
  },
  {
   "cell_type": "code",
   "execution_count": 14,
   "id": "9013cb82",
   "metadata": {},
   "outputs": [
    {
     "data": {
      "text/plain": [
       "0.04901846641946173"
      ]
     },
     "execution_count": 14,
     "metadata": {},
     "output_type": "execute_result"
    }
   ],
   "source": [
    "act_retorno['BEI.DE'].mean()*250"
   ]
  },
  {
   "cell_type": "code",
   "execution_count": 15,
   "id": "6ca6d1e5",
   "metadata": {},
   "outputs": [
    {
     "data": {
      "text/plain": [
       "0.013846542958853401"
      ]
     },
     "execution_count": 15,
     "metadata": {},
     "output_type": "execute_result"
    }
   ],
   "source": [
    "act_retorno['BEI.DE'].std()"
   ]
  },
  {
   "cell_type": "code",
   "execution_count": 16,
   "id": "2c83a5f1",
   "metadata": {},
   "outputs": [
    {
     "data": {
      "text/plain": [
       "0.2189330673467194"
      ]
     },
     "execution_count": 16,
     "metadata": {},
     "output_type": "execute_result"
    }
   ],
   "source": [
    "act_retorno['BEI.DE'].std()*250**0.5"
   ]
  },
  {
   "cell_type": "markdown",
   "id": "1d12a2ef",
   "metadata": {},
   "source": [
    "### Comparando los resultados"
   ]
  },
  {
   "cell_type": "code",
   "execution_count": 17,
   "id": "267508ac",
   "metadata": {},
   "outputs": [
    {
     "name": "stdout",
     "output_type": "stream",
     "text": [
      "0.08533425383508052\n",
      "0.04901846641946173\n"
     ]
    }
   ],
   "source": [
    "print(act_retorno['PG'].mean()*250)\n",
    "print(act_retorno['BEI.DE'].mean()*250)"
   ]
  },
  {
   "cell_type": "markdown",
   "id": "5e745666",
   "metadata": {},
   "source": [
    "### Comparando en un sola línea"
   ]
  },
  {
   "cell_type": "code",
   "execution_count": 19,
   "id": "ec368889",
   "metadata": {},
   "outputs": [
    {
     "data": {
      "text/plain": [
       "PG        0.085334\n",
       "BEI.DE    0.049018\n",
       "dtype: float64"
      ]
     },
     "execution_count": 19,
     "metadata": {},
     "output_type": "execute_result"
    }
   ],
   "source": [
    "act_retorno[['PG','BEI.DE']].mean()*250"
   ]
  },
  {
   "cell_type": "code",
   "execution_count": 20,
   "id": "f3ebb830",
   "metadata": {},
   "outputs": [
    {
     "data": {
      "text/plain": [
       "PG        0.185821\n",
       "BEI.DE    0.218933\n",
       "dtype: float64"
      ]
     },
     "execution_count": 20,
     "metadata": {},
     "output_type": "execute_result"
    }
   ],
   "source": [
    "act_retorno[['PG','BEI.DE']].std()*250**0.5"
   ]
  },
  {
   "cell_type": "markdown",
   "id": "5c85816b",
   "metadata": {},
   "source": [
    "### 2.2 Calculando el riesgo de un portafolio"
   ]
  },
  {
   "cell_type": "code",
   "execution_count": 22,
   "id": "2bbc6c13",
   "metadata": {},
   "outputs": [],
   "source": [
    "weights = np.array([0.5,0.5])"
   ]
  },
  {
   "cell_type": "markdown",
   "id": "b641df58",
   "metadata": {},
   "source": [
    "Varianza del portafolio"
   ]
  },
  {
   "cell_type": "code",
   "execution_count": 23,
   "id": "1eac653e",
   "metadata": {},
   "outputs": [
    {
     "data": {
      "text/plain": [
       "0.026094769837309132"
      ]
     },
     "execution_count": 23,
     "metadata": {},
     "output_type": "execute_result"
    }
   ],
   "source": [
    "pfolio_var = (np.dot(weights.T,np.dot(act_retorno.cov()*250, weights)))\n",
    "pfolio_var"
   ]
  },
  {
   "cell_type": "markdown",
   "id": "e3da8937",
   "metadata": {},
   "source": [
    "Volatilidad del portafolio"
   ]
  },
  {
   "cell_type": "code",
   "execution_count": 25,
   "id": "2a7cf864",
   "metadata": {},
   "outputs": [
    {
     "data": {
      "text/plain": [
       "0.16153875645587076"
      ]
     },
     "execution_count": 25,
     "metadata": {},
     "output_type": "execute_result"
    }
   ],
   "source": [
    "pfolio_vol = (np.dot(weights.T,np.dot(act_retorno.cov()*250, weights)))**0.5\n",
    "pfolio_vol"
   ]
  },
  {
   "cell_type": "code",
   "execution_count": 29,
   "id": "3410c8ef",
   "metadata": {},
   "outputs": [
    {
     "name": "stdout",
     "output_type": "stream",
     "text": [
      "16.154\n"
     ]
    },
    {
     "ename": "TypeError",
     "evalue": "unsupported operand type(s) for +: 'NoneType' and 'str'",
     "output_type": "error",
     "traceback": [
      "\u001b[1;31m---------------------------------------------------------------------------\u001b[0m",
      "\u001b[1;31mTypeError\u001b[0m                                 Traceback (most recent call last)",
      "\u001b[1;32m<ipython-input-29-d54bc6eb4d1b>\u001b[0m in \u001b[0;36m<module>\u001b[1;34m\u001b[0m\n\u001b[1;32m----> 1\u001b[1;33m \u001b[0mprint\u001b[0m\u001b[1;33m(\u001b[0m\u001b[0mstr\u001b[0m\u001b[1;33m(\u001b[0m\u001b[0mround\u001b[0m\u001b[1;33m(\u001b[0m\u001b[0mpfolio_vol\u001b[0m\u001b[1;33m,\u001b[0m\u001b[1;36m5\u001b[0m\u001b[1;33m)\u001b[0m \u001b[1;33m*\u001b[0m \u001b[1;36m100\u001b[0m\u001b[1;33m)\u001b[0m\u001b[1;33m)\u001b[0m \u001b[1;33m+\u001b[0m\u001b[1;34m\" %\"\u001b[0m\u001b[1;33m\u001b[0m\u001b[1;33m\u001b[0m\u001b[0m\n\u001b[0m",
      "\u001b[1;31mTypeError\u001b[0m: unsupported operand type(s) for +: 'NoneType' and 'str'"
     ]
    }
   ],
   "source": [
    "print(str(round(pfolio_vol,5) * 100)) "
   ]
  }
 ],
 "metadata": {
  "kernelspec": {
   "display_name": "Python 3",
   "language": "python",
   "name": "python3"
  },
  "language_info": {
   "codemirror_mode": {
    "name": "ipython",
    "version": 3
   },
   "file_extension": ".py",
   "mimetype": "text/x-python",
   "name": "python",
   "nbconvert_exporter": "python",
   "pygments_lexer": "ipython3",
   "version": "3.8.8"
  }
 },
 "nbformat": 4,
 "nbformat_minor": 5
}
